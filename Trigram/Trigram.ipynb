{
 "cells": [
  {
   "cell_type": "markdown",
   "id": "5dd6aebc-4056-41ad-aea1-be318c186aed",
   "metadata": {},
   "source": [
    "TriGram :"
   ]
  },
  {
   "cell_type": "code",
   "execution_count": 2,
   "id": "3e3787be-8bef-41b8-91c0-1f1ba0ca02ea",
   "metadata": {},
   "outputs": [
    {
     "name": "stdout",
     "output_type": "stream",
     "text": [
      "Counter({'utilitatis causa amicitia': 1, 'causa amicitia est': 1, 'amicitia est quaesita': 1, 'est quaesita lorem': 1, 'quaesita lorem ipsum': 1, 'lorem ipsum dolor': 1, 'ipsum dolor sit': 1, 'dolor sit amet': 1, 'sit amet consectetur': 1, 'amet consectetur adipiscing': 1, 'consectetur adipiscing elit': 1, 'adipiscing elit collatio': 1, 'elit collatio igitur': 1, 'collatio igitur ista': 1, 'igitur ista te': 1, 'ista te nihil': 1, 'te nihil iuvat': 1, 'nihil iuvat honesta': 1, 'iuvat honesta oratio': 1, 'honesta oratio socratica': 1, 'oratio socratica platonis': 1, 'socratica platonis etiam': 1, 'platonis etiam primum': 1, 'etiam primum in': 1, 'primum in nostrane': 1, 'in nostrane potestate': 1, 'nostrane potestate est': 1, 'potestate est quid': 1, 'est quid meminerimus': 1, 'quid meminerimus duo': 1, 'meminerimus duo reges': 1, 'duo reges constructio': 1, 'reges constructio interrete': 1, 'constructio interrete quid': 1, 'interrete quid si': 1, 'quid si etiam': 1, 'si etiam iucunda': 1, 'etiam iucunda memoria': 1, 'iucunda memoria est': 1, 'memoria est praeteritorum': 1, 'est praeteritorum malorum': 1, 'praeteritorum malorum si': 1, 'malorum si quidem': 1, 'si quidem inquit': 1, 'quidem inquit tollerem': 1, 'inquit tollerem sed': 1, 'tollerem sed relinquo': 1, 'sed relinquo an': 1, 'relinquo an nisi': 1, 'an nisi populari': 1, 'nisi populari fama': 1, 'populari fama quamquam': 1, 'fama quamquam id': 1, 'quamquam id quidem': 1, 'id quidem licebit': 1, 'quidem licebit iis': 1, 'licebit iis existimare': 1, 'iis existimare qui': 1, 'existimare qui legerint': 1, 'qui legerint summum': 1, 'legerint summum a': 1, 'summum a vobis': 1, 'a vobis bonum': 1, 'vobis bonum voluptas': 1, 'bonum voluptas dicitur': 1, 'voluptas dicitur at': 1, 'dicitur at hoc': 1, 'at hoc in': 1, 'hoc in eo': 1, 'in eo m': 1, 'eo m refert': 1, 'm refert tamen': 1, 'refert tamen quo': 1, 'tamen quo modo': 1, 'quo modo quid': 1, 'modo quid sequatur': 1, 'quid sequatur quid': 1, 'sequatur quid repugnet': 1, 'quid repugnet vident': 1, 'repugnet vident iam': 1, 'vident iam id': 1, 'iam id ipsum': 1, 'id ipsum absurdum': 1, 'ipsum absurdum maximum': 1, 'absurdum maximum malum': 1, 'maximum malum neglegi': 1})\n"
     ]
    }
   ],
   "source": [
    "import re\n",
    "from collections import Counter\n",
    "\n",
    "def extract_trigrams(file_path):\n",
    "    try:\n",
    "        # Read the file\n",
    "        with open(file_path, 'r', encoding='utf-8') as file:\n",
    "            text = file.read()\n",
    "        \n",
    "        # Tokenize the text into words\n",
    "        words = re.findall(r'\\b\\w+\\b', text.lower())  # Normalize to lowercase\n",
    "        \n",
    "        # Create trigrams\n",
    "        trigrams = [f\"{words[i]} {words[i + 1]} {words[i + 2]}\" for i in range(len(words) - 2)]\n",
    "        \n",
    "        # Count the frequency of each trigram\n",
    "        trigram_freq = Counter(trigrams)\n",
    "        \n",
    "        return trigram_freq\n",
    "    \n",
    "    except PermissionError:\n",
    "        print(\"Permission denied: Cannot access the file. Check if you have read permissions.\")\n",
    "    except FileNotFoundError:\n",
    "        print(\"File not found. Make sure the file path is correct.\")\n",
    "    except Exception as e:\n",
    "        print(f\"An unexpected error occurred: {e}\")\n",
    "\n",
    "# Path to your file\n",
    "file_path = r'C:\\Users\\vishn\\OneDrive\\Desktop\\gram\\sample.txt'\n",
    "trigrams = extract_trigrams(file_path)\n",
    "if trigrams:\n",
    "    print(trigrams)\n"
   ]
  },
  {
   "cell_type": "code",
   "execution_count": null,
   "id": "93076d94-c753-4d8d-9869-573e140216b1",
   "metadata": {},
   "outputs": [],
   "source": []
  }
 ],
 "metadata": {
  "kernelspec": {
   "display_name": "Python 3 (ipykernel)",
   "language": "python",
   "name": "python3"
  },
  "language_info": {
   "codemirror_mode": {
    "name": "ipython",
    "version": 3
   },
   "file_extension": ".py",
   "mimetype": "text/x-python",
   "name": "python",
   "nbconvert_exporter": "python",
   "pygments_lexer": "ipython3",
   "version": "3.11.7"
  }
 },
 "nbformat": 4,
 "nbformat_minor": 5
}
