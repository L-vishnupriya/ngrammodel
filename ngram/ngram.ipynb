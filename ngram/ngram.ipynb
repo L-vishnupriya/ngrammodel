{
 "cells": [
  {
   "cell_type": "markdown",
   "id": "40901756-45be-46c6-9ebd-24ce1df81ad7",
   "metadata": {},
   "source": [
    "NGram :"
   ]
  },
  {
   "cell_type": "code",
   "execution_count": 2,
   "id": "422358e3-56d0-45a0-baad-cb8a801861f3",
   "metadata": {},
   "outputs": [
    {
     "name": "stdout",
     "output_type": "stream",
     "text": [
      "Counter({'utilitatis causa amicitia est quaesita': 1, 'causa amicitia est quaesita lorem': 1, 'amicitia est quaesita lorem ipsum': 1, 'est quaesita lorem ipsum dolor': 1, 'quaesita lorem ipsum dolor sit': 1, 'lorem ipsum dolor sit amet': 1, 'ipsum dolor sit amet consectetur': 1, 'dolor sit amet consectetur adipiscing': 1, 'sit amet consectetur adipiscing elit': 1, 'amet consectetur adipiscing elit collatio': 1, 'consectetur adipiscing elit collatio igitur': 1, 'adipiscing elit collatio igitur ista': 1, 'elit collatio igitur ista te': 1, 'collatio igitur ista te nihil': 1, 'igitur ista te nihil iuvat': 1, 'ista te nihil iuvat honesta': 1, 'te nihil iuvat honesta oratio': 1, 'nihil iuvat honesta oratio socratica': 1, 'iuvat honesta oratio socratica platonis': 1, 'honesta oratio socratica platonis etiam': 1, 'oratio socratica platonis etiam primum': 1, 'socratica platonis etiam primum in': 1, 'platonis etiam primum in nostrane': 1, 'etiam primum in nostrane potestate': 1, 'primum in nostrane potestate est': 1, 'in nostrane potestate est quid': 1, 'nostrane potestate est quid meminerimus': 1, 'potestate est quid meminerimus duo': 1, 'est quid meminerimus duo reges': 1, 'quid meminerimus duo reges constructio': 1, 'meminerimus duo reges constructio interrete': 1, 'duo reges constructio interrete quid': 1, 'reges constructio interrete quid si': 1, 'constructio interrete quid si etiam': 1, 'interrete quid si etiam iucunda': 1, 'quid si etiam iucunda memoria': 1, 'si etiam iucunda memoria est': 1, 'etiam iucunda memoria est praeteritorum': 1, 'iucunda memoria est praeteritorum malorum': 1, 'memoria est praeteritorum malorum si': 1, 'est praeteritorum malorum si quidem': 1, 'praeteritorum malorum si quidem inquit': 1, 'malorum si quidem inquit tollerem': 1, 'si quidem inquit tollerem sed': 1, 'quidem inquit tollerem sed relinquo': 1, 'inquit tollerem sed relinquo an': 1, 'tollerem sed relinquo an nisi': 1, 'sed relinquo an nisi populari': 1, 'relinquo an nisi populari fama': 1, 'an nisi populari fama quamquam': 1, 'nisi populari fama quamquam id': 1, 'populari fama quamquam id quidem': 1, 'fama quamquam id quidem licebit': 1, 'quamquam id quidem licebit iis': 1, 'id quidem licebit iis existimare': 1, 'quidem licebit iis existimare qui': 1, 'licebit iis existimare qui legerint': 1, 'iis existimare qui legerint summum': 1, 'existimare qui legerint summum a': 1, 'qui legerint summum a vobis': 1, 'legerint summum a vobis bonum': 1, 'summum a vobis bonum voluptas': 1, 'a vobis bonum voluptas dicitur': 1, 'vobis bonum voluptas dicitur at': 1, 'bonum voluptas dicitur at hoc': 1, 'voluptas dicitur at hoc in': 1, 'dicitur at hoc in eo': 1, 'at hoc in eo m': 1, 'hoc in eo m refert': 1, 'in eo m refert tamen': 1, 'eo m refert tamen quo': 1, 'm refert tamen quo modo': 1, 'refert tamen quo modo quid': 1, 'tamen quo modo quid sequatur': 1, 'quo modo quid sequatur quid': 1, 'modo quid sequatur quid repugnet': 1, 'quid sequatur quid repugnet vident': 1, 'sequatur quid repugnet vident iam': 1, 'quid repugnet vident iam id': 1, 'repugnet vident iam id ipsum': 1, 'vident iam id ipsum absurdum': 1, 'iam id ipsum absurdum maximum': 1, 'id ipsum absurdum maximum malum': 1, 'ipsum absurdum maximum malum neglegi': 1})\n"
     ]
    }
   ],
   "source": [
    "import re\n",
    "from collections import Counter\n",
    "from itertools import tee, islice\n",
    "\n",
    "def extract_ngrams(file_path, n):\n",
    "    try:\n",
    "        # Read the file\n",
    "        with open(file_path, 'r', encoding='utf-8') as file:\n",
    "            text = file.read()\n",
    "        \n",
    "        # Tokenize the text into words\n",
    "        words = re.findall(r'\\b\\w+\\b', text.lower())  # Normalize to lowercase\n",
    "        \n",
    "        # Create n-grams\n",
    "        ngrams = [' '.join(words[i:i + n]) for i in range(len(words) - n + 1)]\n",
    "        \n",
    "        # Count the frequency of each n-gram\n",
    "        ngram_freq = Counter(ngrams)\n",
    "        \n",
    "        return ngram_freq\n",
    "    \n",
    "    except PermissionError:\n",
    "        print(\"Permission denied: Cannot access the file. Check if you have read permissions.\")\n",
    "    except FileNotFoundError:\n",
    "        print(\"File not found. Make sure the file path is correct.\")\n",
    "    except Exception as e:\n",
    "        print(f\"An unexpected error occurred: {e}\")\n",
    "\n",
    "# Path to your file\n",
    "file_path = r'C:\\Users\\vishn\\OneDrive\\Desktop\\gram\\sample.txt'\n",
    "n = 5 # Change this value to the desired n-gram size (e.g., 1 for unigrams, 2 for bigrams, 3 for trigrams)\n",
    "ngrams = extract_ngrams(file_path, n)\n",
    "if ngrams:\n",
    "    print(ngrams)\n"
   ]
  },
  {
   "cell_type": "code",
   "execution_count": null,
   "id": "8b17bb12-5716-4cd8-9ef1-de5e5a1527c1",
   "metadata": {},
   "outputs": [],
   "source": []
  }
 ],
 "metadata": {
  "kernelspec": {
   "display_name": "Python 3 (ipykernel)",
   "language": "python",
   "name": "python3"
  },
  "language_info": {
   "codemirror_mode": {
    "name": "ipython",
    "version": 3
   },
   "file_extension": ".py",
   "mimetype": "text/x-python",
   "name": "python",
   "nbconvert_exporter": "python",
   "pygments_lexer": "ipython3",
   "version": "3.11.7"
  }
 },
 "nbformat": 4,
 "nbformat_minor": 5
}
