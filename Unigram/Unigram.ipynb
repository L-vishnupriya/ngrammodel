{
 "cells": [
  {
   "cell_type": "markdown",
   "id": "efc42c34-5b6f-4237-88b0-19c9f512ff44",
   "metadata": {},
   "source": [
    "1. Imports:"
   ]
  },
  {
   "cell_type": "markdown",
   "id": "4412cde7-280a-4c87-a41e-fca3926e485f",
   "metadata": {},
   "source": [
    "'re'  :      The regular expression module used for text processing.  \n",
    "\n",
    "\n",
    "'Counter' from 'collections'  :      A specialized dictionary for counting hashable objects, which simplifies counting word frequencies."
   ]
  },
  {
   "cell_type": "code",
   "execution_count": 58,
   "id": "94f65d57-6e9f-4363-8c68-2f392caf196a",
   "metadata": {},
   "outputs": [],
   "source": [
    "import re\n",
    "from collections import Counter"
   ]
  },
  {
   "cell_type": "markdown",
   "id": "4178dc35-d56b-4c1a-9e68-957ac001e466",
   "metadata": {},
   "source": [
    "2. Function Definition: extract_unigrams(file_path) :"
   ]
  },
  {
   "cell_type": "markdown",
   "id": "5e52e281-7a27-4708-86d9-a582fec61eb9",
   "metadata": {},
   "source": [
    "file_path Parameter  : This is the path to the text file from which unigrams (single words) will be extracted.\n"
   ]
  },
  {
   "cell_type": "markdown",
   "id": "97224476-8c51-4803-b7af-71af10e93c8a",
   "metadata": {},
   "source": [
    "3. Reading the File :"
   ]
  },
  {
   "cell_type": "markdown",
   "id": "ad2d70ca-7ca1-4ef9-a5f1-b2fb5202f29a",
   "metadata": {},
   "source": [
    "Opens the file in read mode with UTF-8 encoding and reads the entire content into the text variable."
   ]
  },
  {
   "cell_type": "markdown",
   "id": "d42d87cd-f931-403e-a048-9ea166d81797",
   "metadata": {},
   "source": [
    " 4. Tokenizing the Text :"
   ]
  },
  {
   "cell_type": "markdown",
   "id": "6aa59cbf-941a-4510-a81d-18067870a222",
   "metadata": {},
   "source": [
    "* Converts the text to lowercase to normalize it (making the extraction case-insensitive).\n",
    " \n",
    "* Uses a regular expression (\\b\\w+\\b) to find all words. The \\b denotes word boundaries, and \\w+ matches sequences of word characters (letters and digits)."
   ]
  },
  {
   "cell_type": "markdown",
   "id": "bb24440d-a1ec-4b87-8c5e-4bd4b52c5acc",
   "metadata": {},
   "source": [
    "5. Creating Unigrams :"
   ]
  },
  {
   "cell_type": "markdown",
   "id": "d22120fd-705e-412f-b8d8-3aefa62579e2",
   "metadata": {},
   "source": [
    "In this case, the unigrams are just the words extracted from the text since unigrams are essentially single words.\n"
   ]
  },
  {
   "cell_type": "markdown",
   "id": "c2f0a0bd-55b2-497a-8d6d-759012572318",
   "metadata": {},
   "source": [
    "6. Counting Frequencies :"
   ]
  },
  {
   "cell_type": "markdown",
   "id": "5d56724d-9abe-4edd-b9a5-b14e826c51a6",
   "metadata": {},
   "source": [
    "Counter creates a dictionary where the keys are the unigrams and the values are their respective counts (how many times each unigram appears in the text"
   ]
  },
  {
   "cell_type": "markdown",
   "id": "8b9c442e-6c0a-4607-a150-4114f16724b4",
   "metadata": {},
   "source": [
    "7. Error Handling :"
   ]
  },
  {
   "cell_type": "markdown",
   "id": "18f5d083-e75d-4a92-a7ce-204a79c5db83",
   "metadata": {},
   "source": [
    "Catches specific exceptions like PermissionError (if you don't have permission to access the file) and FileNotFoundError (if the file path is incorrect). The general Exception handler catches any other unexpected errors."
   ]
  },
  {
   "cell_type": "markdown",
   "id": "ed6ee682-14fd-4750-86cf-746d1e9b9c96",
   "metadata": {},
   "source": [
    "8. Main Execution :"
   ]
  },
  {
   "cell_type": "markdown",
   "id": "0735b8f0-4e75-48f0-8b04-7b902f494c4c",
   "metadata": {},
   "source": [
    "* Sets the path to your text file.\n",
    "    \n",
    "* Calls the extract_unigrams function with this path.\n",
    "\n",
    "* If unigrams are successfully extracted, prints the unigram frequencies."
   ]
  },
  {
   "cell_type": "code",
   "execution_count": 57,
   "id": "0b8ee56f-dfdb-4545-b828-86a3e61dbd18",
   "metadata": {},
   "outputs": [
    {
     "name": "stdout",
     "output_type": "stream",
     "text": [
      "Counter({'quid': 4, 'est': 3, 'ipsum': 2, 'etiam': 2, 'in': 2, 'si': 2, 'quidem': 2, 'id': 2, 'utilitatis': 1, 'causa': 1, 'amicitia': 1, 'quaesita': 1, 'lorem': 1, 'dolor': 1, 'sit': 1, 'amet': 1, 'consectetur': 1, 'adipiscing': 1, 'elit': 1, 'collatio': 1, 'igitur': 1, 'ista': 1, 'te': 1, 'nihil': 1, 'iuvat': 1, 'honesta': 1, 'oratio': 1, 'socratica': 1, 'platonis': 1, 'primum': 1, 'nostrane': 1, 'potestate': 1, 'meminerimus': 1, 'duo': 1, 'reges': 1, 'constructio': 1, 'interrete': 1, 'iucunda': 1, 'memoria': 1, 'praeteritorum': 1, 'malorum': 1, 'inquit': 1, 'tollerem': 1, 'sed': 1, 'relinquo': 1, 'an': 1, 'nisi': 1, 'populari': 1, 'fama': 1, 'quamquam': 1, 'licebit': 1, 'iis': 1, 'existimare': 1, 'qui': 1, 'legerint': 1, 'summum': 1, 'a': 1, 'vobis': 1, 'bonum': 1, 'voluptas': 1, 'dicitur': 1, 'at': 1, 'hoc': 1, 'eo': 1, 'm': 1, 'refert': 1, 'tamen': 1, 'quo': 1, 'modo': 1, 'sequatur': 1, 'repugnet': 1, 'vident': 1, 'iam': 1, 'absurdum': 1, 'maximum': 1, 'malum': 1, 'neglegi': 1})\n"
     ]
    }
   ],
   "source": [
    "def extract_unigrams(file_path):\n",
    "    try:\n",
    "        # Read the file\n",
    "        with open(file_path, 'r', encoding='utf-8') as file:\n",
    "            text = file.read()\n",
    "\n",
    "\n",
    "        \n",
    "        # Tokenize the text into words\n",
    "        words = re.findall(r'\\b\\w+\\b', text.lower())  # Normalize to lowercase\n",
    "        \n",
    "        # Create unigrams (words themselves)\n",
    "        unigrams = words\n",
    "        \n",
    "        # Count the frequency of each unigram\n",
    "        unigram_freq = Counter(unigrams)\n",
    "        \n",
    "        return unigram_freq\n",
    "    except PermissionError:\n",
    "        print(\"Permission denied: Cannot access the file. Check if you have read permissions.\")\n",
    "    except FileNotFoundError:\n",
    "        print(\"File not found. Make sure the file path is correct.\")\n",
    "    except Exception as e:\n",
    "        print(f\"An unexpected error occurred: {e}\")\n",
    "    # Path to your file\n",
    "file_path = r'C:\\Users\\vishn\\OneDrive\\Desktop\\gram\\sample.txt'\n",
    "unigrams = extract_unigrams(file_path)\n",
    "if unigrams:\n",
    "    print(unigrams)\n",
    "\n",
    "\n"
   ]
  },
  {
   "cell_type": "code",
   "execution_count": null,
   "id": "670495d4-3293-4455-a4f2-3c647073b796",
   "metadata": {},
   "outputs": [],
   "source": []
  }
 ],
 "metadata": {
  "kernelspec": {
   "display_name": "Python 3 (ipykernel)",
   "language": "python",
   "name": "python3"
  },
  "language_info": {
   "codemirror_mode": {
    "name": "ipython",
    "version": 3
   },
   "file_extension": ".py",
   "mimetype": "text/x-python",
   "name": "python",
   "nbconvert_exporter": "python",
   "pygments_lexer": "ipython3",
   "version": "3.11.7"
  }
 },
 "nbformat": 4,
 "nbformat_minor": 5
}
