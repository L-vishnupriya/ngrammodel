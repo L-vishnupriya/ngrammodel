{
 "cells": [
  {
   "cell_type": "markdown",
   "id": "4d03f8ea-8e82-4fa0-997e-6a23007012c9",
   "metadata": {},
   "source": [
    "BiGram :"
   ]
  },
  {
   "cell_type": "markdown",
   "id": "de4339e1-f5c2-4d4a-96fe-6c403cd09444",
   "metadata": {},
   "source": [
    "1. Imports:\n",
    "\n",
    "* re : The regular expression module, used for pattern matching in text.\n",
    "    \n",
    "* Counter from collections : A dictionary subclass used to count hashable objects (in this case, bigrams).\n",
    "\n",
    "* tee and islice from itertools : Imported but not used in this script.\n",
    "\n",
    "    \n",
    "2. Function Definition : extract_bigrams(file_path)\n",
    "\n",
    "* Purpose : Extract bigrams (pairs of consecutive words) from the text in the specified file and count their frequencies.\n",
    "\n",
    "3. Reading the File:\n",
    "\n",
    "Opens the file specified by file_path in read mode with UTF-8 encoding and reads the entire content into the variable text.\n",
    "\n",
    "4.Tokenizing the Text:\n",
    "\n",
    "    * Converts the entire text to lowercase to make the analysis case-insensitive.\n",
    "\n",
    "    * Uses a regular expression (\\b\\w+\\b) to find all sequences of word characters. \\b represents word boundaries, and \\w+ matches one or more word characters (letters and digits).\n",
    "\n",
    "5. Creating Bigrams:\n",
    "\n",
    "    * Generates bigrams by combining each word with the next word in the list. This is done using a list comprehension that iterates through the list of words and creates pairs of consecutive word\n",
    "\n",
    "6. Counting Frequencies:\n",
    "\n",
    "    Counter creates a frequency distribution of the bigrams. Each unique bigram is a key in the Counter dictionary, and its value is the count of occurrences in the text.\n",
    "    \n",
    "7. Error Handling:\n",
    "\n",
    "Catches specific exceptions:\n",
    "\n",
    "  * PermissionError: If the file cannot be accessed due to permission issues.\n",
    "\n",
    "  * FileNotFoundError: If the file path is incorrect or the file does not exist.\n",
    "\n",
    "  * A general Exception handler to catch any other unexpected errors.\n",
    "    \n",
    "8. Main Execution:\n",
    "\n",
    "* Sets the path to the text file. Make sure to replace sample.txt with the actual filename if it’s different.\n",
    "    \n",
    "* Calls the extract_bigrams function with the specified file path.\n",
    "    \n",
    "* If bigrams are successfully extracted, prints the bigram frequencies.\n",
    "    "
   ]
  },
  {
   "cell_type": "code",
   "execution_count": 1,
   "id": "6192d844-e199-46cf-8d5d-b39d0005c20c",
   "metadata": {},
   "outputs": [
    {
     "name": "stdout",
     "output_type": "stream",
     "text": [
      "Counter({'utilitatis causa': 1, 'causa amicitia': 1, 'amicitia est': 1, 'est quaesita': 1, 'quaesita lorem': 1, 'lorem ipsum': 1, 'ipsum dolor': 1, 'dolor sit': 1, 'sit amet': 1, 'amet consectetur': 1, 'consectetur adipiscing': 1, 'adipiscing elit': 1, 'elit collatio': 1, 'collatio igitur': 1, 'igitur ista': 1, 'ista te': 1, 'te nihil': 1, 'nihil iuvat': 1, 'iuvat honesta': 1, 'honesta oratio': 1, 'oratio socratica': 1, 'socratica platonis': 1, 'platonis etiam': 1, 'etiam primum': 1, 'primum in': 1, 'in nostrane': 1, 'nostrane potestate': 1, 'potestate est': 1, 'est quid': 1, 'quid meminerimus': 1, 'meminerimus duo': 1, 'duo reges': 1, 'reges constructio': 1, 'constructio interrete': 1, 'interrete quid': 1, 'quid si': 1, 'si etiam': 1, 'etiam iucunda': 1, 'iucunda memoria': 1, 'memoria est': 1, 'est praeteritorum': 1, 'praeteritorum malorum': 1, 'malorum si': 1, 'si quidem': 1, 'quidem inquit': 1, 'inquit tollerem': 1, 'tollerem sed': 1, 'sed relinquo': 1, 'relinquo an': 1, 'an nisi': 1, 'nisi populari': 1, 'populari fama': 1, 'fama quamquam': 1, 'quamquam id': 1, 'id quidem': 1, 'quidem licebit': 1, 'licebit iis': 1, 'iis existimare': 1, 'existimare qui': 1, 'qui legerint': 1, 'legerint summum': 1, 'summum a': 1, 'a vobis': 1, 'vobis bonum': 1, 'bonum voluptas': 1, 'voluptas dicitur': 1, 'dicitur at': 1, 'at hoc': 1, 'hoc in': 1, 'in eo': 1, 'eo m': 1, 'm refert': 1, 'refert tamen': 1, 'tamen quo': 1, 'quo modo': 1, 'modo quid': 1, 'quid sequatur': 1, 'sequatur quid': 1, 'quid repugnet': 1, 'repugnet vident': 1, 'vident iam': 1, 'iam id': 1, 'id ipsum': 1, 'ipsum absurdum': 1, 'absurdum maximum': 1, 'maximum malum': 1, 'malum neglegi': 1})\n"
     ]
    }
   ],
   "source": [
    "import re\n",
    "from collections import Counter\n",
    "from itertools import tee, islice\n",
    "\n",
    "def extract_bigrams(file_path):\n",
    "    try:\n",
    "        # Read the file\n",
    "        with open(file_path, 'r', encoding='utf-8') as file:\n",
    "            text = file.read()\n",
    "        \n",
    "        # Tokenize the text into words\n",
    "        words = re.findall(r'\\b\\w+\\b', text.lower())  # Normalize to lowercase\n",
    "        \n",
    "        # Create bigrams\n",
    "        bigrams = [f\"{words[i]} {words[i + 1]}\" for i in range(len(words) - 1)]\n",
    "        \n",
    "        # Count the frequency of each bigram\n",
    "        bigram_freq = Counter(bigrams)\n",
    "        \n",
    "        return bigram_freq\n",
    "    \n",
    "    except PermissionError:\n",
    "        print(\"Permission denied: Cannot access the file. Check if you have read permissions.\")\n",
    "    except FileNotFoundError:\n",
    "        print(\"File not found. Make sure the file path is correct.\")\n",
    "    except Exception as e:\n",
    "        print(f\"An unexpected error occurred: {e}\")\n",
    "\n",
    "# Path to your file\n",
    "file_path = r'C:\\Users\\vishn\\OneDrive\\Desktop\\gram\\sample.txt'\n",
    "bigrams = extract_bigrams(file_path)\n",
    "if bigrams:\n",
    "    print(bigrams)"
   ]
  },
  {
   "cell_type": "code",
   "execution_count": null,
   "id": "2895663d-0f33-469e-99e5-8fba35f4d2be",
   "metadata": {},
   "outputs": [],
   "source": []
  }
 ],
 "metadata": {
  "kernelspec": {
   "display_name": "Python 3 (ipykernel)",
   "language": "python",
   "name": "python3"
  },
  "language_info": {
   "codemirror_mode": {
    "name": "ipython",
    "version": 3
   },
   "file_extension": ".py",
   "mimetype": "text/x-python",
   "name": "python",
   "nbconvert_exporter": "python",
   "pygments_lexer": "ipython3",
   "version": "3.11.7"
  }
 },
 "nbformat": 4,
 "nbformat_minor": 5
}
